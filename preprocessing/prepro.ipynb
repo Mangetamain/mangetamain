{
 "cells": [
  {
   "cell_type": "code",
   "execution_count": 58,
   "id": "93dc15fb",
   "metadata": {},
   "outputs": [
    {
     "name": "stdout",
     "output_type": "stream",
     "text": [
      "Warning: Looks like you're using an outdated `kagglehub` version, please consider updating (latest version: 0.3.13)\n",
      "Data from RAW_interactions.csv:\n",
      "   user_id  recipe_id        date  rating  \\\n",
      "0    38094      40893  2003-02-17       4   \n",
      "1  1293707      40893  2011-12-21       5   \n",
      "2     8937      44394  2002-12-01       4   \n",
      "3   126440      85009  2010-02-27       5   \n",
      "4    57222      85009  2011-10-01       5   \n",
      "\n",
      "                                              review  \n",
      "0  Great with a salad. Cooked on top of stove for...  \n",
      "1  So simple, so delicious! Great for chilly fall...  \n",
      "2  This worked very well and is EASY.  I used not...  \n",
      "3  I made the Mexican topping and took it to bunk...  \n",
      "4  Made the cheddar bacon topping, adding a sprin...  \n",
      "Data from RAW_recipes.csv:\n",
      "                                         name      id  minutes  \\\n",
      "0  arriba   baked winter squash mexican style  137739       55   \n",
      "1            a bit different  breakfast pizza   31490       30   \n",
      "2                   all in the kitchen  chili  112140      130   \n",
      "3                          alouette  potatoes   59389       45   \n",
      "4          amish  tomato ketchup  for canning   44061      190   \n",
      "\n",
      "   contributor_id   submitted  \\\n",
      "0           47892  2005-09-16   \n",
      "1           26278  2002-06-17   \n",
      "2          196586  2005-02-25   \n",
      "3           68585  2003-04-14   \n",
      "4           41706  2002-10-25   \n",
      "\n",
      "                                                tags  \\\n",
      "0  ['60-minutes-or-less', 'time-to-make', 'course...   \n",
      "1  ['30-minutes-or-less', 'time-to-make', 'course...   \n",
      "2  ['time-to-make', 'course', 'preparation', 'mai...   \n",
      "3  ['60-minutes-or-less', 'time-to-make', 'course...   \n",
      "4  ['weeknight', 'time-to-make', 'course', 'main-...   \n",
      "\n",
      "                                    nutrition  n_steps  \\\n",
      "0       [51.5, 0.0, 13.0, 0.0, 2.0, 0.0, 4.0]       11   \n",
      "1   [173.4, 18.0, 0.0, 17.0, 22.0, 35.0, 1.0]        9   \n",
      "2  [269.8, 22.0, 32.0, 48.0, 39.0, 27.0, 5.0]        6   \n",
      "3   [368.1, 17.0, 10.0, 2.0, 14.0, 8.0, 20.0]       11   \n",
      "4   [352.9, 1.0, 337.0, 23.0, 3.0, 0.0, 28.0]        5   \n",
      "\n",
      "                                               steps  \\\n",
      "0  ['make a choice and proceed with recipe', 'dep...   \n",
      "1  ['preheat oven to 425 degrees f', 'press dough...   \n",
      "2  ['brown ground beef in large pot', 'add choppe...   \n",
      "3  ['place potatoes in a large pot of lightly sal...   \n",
      "4  ['mix all ingredients& boil for 2 1 / 2 hours ...   \n",
      "\n",
      "                                         description  \\\n",
      "0  autumn is my favorite time of year to cook! th...   \n",
      "1  this recipe calls for the crust to be prebaked...   \n",
      "2  this modified version of 'mom's' chili was a h...   \n",
      "3  this is a super easy, great tasting, make ahea...   \n",
      "4  my dh's amish mother raised him on this recipe...   \n",
      "\n",
      "                                         ingredients  n_ingredients  \n",
      "0  ['winter squash', 'mexican seasoning', 'mixed ...              7  \n",
      "1  ['prepared pizza crust', 'sausage patty', 'egg...              6  \n",
      "2  ['ground beef', 'yellow onions', 'diced tomato...             13  \n",
      "3  ['spreadable cheese with garlic and herbs', 'n...             11  \n",
      "4  ['tomato juice', 'apple cider vinegar', 'sugar...              8  \n",
      " Recipes shape: (231637, 12)\n",
      " Interactions shape: (1132367, 5)\n",
      "Data from RAW_interactions.csv:\n",
      "   user_id  recipe_id        date  rating  \\\n",
      "0    38094      40893  2003-02-17       4   \n",
      "1  1293707      40893  2011-12-21       5   \n",
      "2     8937      44394  2002-12-01       4   \n",
      "3   126440      85009  2010-02-27       5   \n",
      "4    57222      85009  2011-10-01       5   \n",
      "\n",
      "                                              review  \n",
      "0  Great with a salad. Cooked on top of stove for...  \n",
      "1  So simple, so delicious! Great for chilly fall...  \n",
      "2  This worked very well and is EASY.  I used not...  \n",
      "3  I made the Mexican topping and took it to bunk...  \n",
      "4  Made the cheddar bacon topping, adding a sprin...  \n",
      "Data from RAW_recipes.csv:\n",
      "                                         name      id  minutes  \\\n",
      "0  arriba   baked winter squash mexican style  137739       55   \n",
      "1            a bit different  breakfast pizza   31490       30   \n",
      "2                   all in the kitchen  chili  112140      130   \n",
      "3                          alouette  potatoes   59389       45   \n",
      "4          amish  tomato ketchup  for canning   44061      190   \n",
      "\n",
      "   contributor_id   submitted  \\\n",
      "0           47892  2005-09-16   \n",
      "1           26278  2002-06-17   \n",
      "2          196586  2005-02-25   \n",
      "3           68585  2003-04-14   \n",
      "4           41706  2002-10-25   \n",
      "\n",
      "                                                tags  \\\n",
      "0  ['60-minutes-or-less', 'time-to-make', 'course...   \n",
      "1  ['30-minutes-or-less', 'time-to-make', 'course...   \n",
      "2  ['time-to-make', 'course', 'preparation', 'mai...   \n",
      "3  ['60-minutes-or-less', 'time-to-make', 'course...   \n",
      "4  ['weeknight', 'time-to-make', 'course', 'main-...   \n",
      "\n",
      "                                    nutrition  n_steps  \\\n",
      "0       [51.5, 0.0, 13.0, 0.0, 2.0, 0.0, 4.0]       11   \n",
      "1   [173.4, 18.0, 0.0, 17.0, 22.0, 35.0, 1.0]        9   \n",
      "2  [269.8, 22.0, 32.0, 48.0, 39.0, 27.0, 5.0]        6   \n",
      "3   [368.1, 17.0, 10.0, 2.0, 14.0, 8.0, 20.0]       11   \n",
      "4   [352.9, 1.0, 337.0, 23.0, 3.0, 0.0, 28.0]        5   \n",
      "\n",
      "                                               steps  \\\n",
      "0  ['make a choice and proceed with recipe', 'dep...   \n",
      "1  ['preheat oven to 425 degrees f', 'press dough...   \n",
      "2  ['brown ground beef in large pot', 'add choppe...   \n",
      "3  ['place potatoes in a large pot of lightly sal...   \n",
      "4  ['mix all ingredients& boil for 2 1 / 2 hours ...   \n",
      "\n",
      "                                         description  \\\n",
      "0  autumn is my favorite time of year to cook! th...   \n",
      "1  this recipe calls for the crust to be prebaked...   \n",
      "2  this modified version of 'mom's' chili was a h...   \n",
      "3  this is a super easy, great tasting, make ahea...   \n",
      "4  my dh's amish mother raised him on this recipe...   \n",
      "\n",
      "                                         ingredients  n_ingredients  \n",
      "0  ['winter squash', 'mexican seasoning', 'mixed ...              7  \n",
      "1  ['prepared pizza crust', 'sausage patty', 'egg...              6  \n",
      "2  ['ground beef', 'yellow onions', 'diced tomato...             13  \n",
      "3  ['spreadable cheese with garlic and herbs', 'n...             11  \n",
      "4  ['tomato juice', 'apple cider vinegar', 'sugar...              8  \n",
      " Recipes shape: (231637, 12)\n",
      " Interactions shape: (1132367, 5)\n"
     ]
    }
   ],
   "source": [
    "import kagglehub\n",
    "import pandas as pd \n",
    "import os\n",
    "import yaml\n",
    "\n",
    "with open(\"config.yaml\", 'r') as f:\n",
    "    config = yaml.safe_load(f)\n",
    "\n",
    "def fetch_data(dataset_name, version=None)->str:\n",
    "    if version:\n",
    "        dataset_name = f\"{dataset_name}:{version}\"\n",
    "    return kagglehub.dataset_download(dataset_name)\n",
    "\n",
    "def load_data(path,files)->pd.DataFrame:\n",
    "    data_frames = {}\n",
    "    for file in files : \n",
    "        file_path = os.path.join(path, file)\n",
    "        if os.path.exists(file_path):\n",
    "            data_frames[file] = pd.read_csv(file_path)\n",
    "        else:\n",
    "            raise FileNotFoundError(f\"{file} introuvable dans le {path}\")\n",
    "    return data_frames\n",
    "\n",
    "# Charger les données au niveau global\n",
    "dataset_path = fetch_data(config['dataset']['name'])\n",
    "dfs = load_data(dataset_path, config['dataset']['files'])\n",
    "recipes_df = dfs.get('RAW_recipes.csv')\n",
    "interactions_df = dfs.get('RAW_interactions.csv')\n",
    "\n",
    "if __name__ == \"__main__\":\n",
    "    for name, df in dfs.items():\n",
    "        print(f\"Data from {name}:\")\n",
    "        print(df.head())\n",
    "    print(\" Recipes shape:\", recipes_df.shape)\n",
    "    print(\" Interactions shape:\", interactions_df.shape)"
   ]
  },
  {
   "cell_type": "code",
   "execution_count": 29,
   "id": "1a501096",
   "metadata": {},
   "outputs": [
    {
     "name": "stderr",
     "output_type": "stream",
     "text": [
      "INFO:data_prepro:Ingredient map loaded successfully.\n"
     ]
    },
    {
     "name": "stdout",
     "output_type": "stream",
     "text": [
      "IngredientPreprocessor initialisé avec le fichier CSV\n",
      "Nombre d'ingrédients dans la carte: 11659\n",
      "Test normalization: 'extra virgin olive oil' -> 'olive oil'\n",
      "'large eggs' -> 'large eggs'\n",
      "'all purpose flour' -> 'all purpose flour'\n",
      "'unsalted butter' -> 'unsalted butter'\n"
     ]
    }
   ],
   "source": [
    "# Rechargement du module pour prendre en compte les modifications\n",
    "import importlib\n",
    "import data_prepro\n",
    "importlib.reload(data_prepro)\n",
    "from data_prepro import IngredientPreprocessor\n",
    "\n",
    "# Charger le fichier CSV directement depuis le répertoire courant\n",
    "preproc = IngredientPreprocessor(\"ingr_map.csv\")\n",
    "print(\"IngredientPreprocessor initialisé avec le fichier CSV\")\n",
    "\n",
    "# Vérifier que la carte des ingrédients est bien chargée\n",
    "print(f\"Nombre d'ingrédients dans la carte: {len(preproc.raw_to_normalized)}\")\n",
    "\n",
    "# Tester avec un ingrédient qui devrait être dans la carte\n",
    "test_result = preproc.normalize_ingredient(\"4 extra virgin olive oil\")\n",
    "print(f\"Test normalization: 'extra virgin olive oil' -> '{test_result}'\")\n",
    "\n",
    "# Tester avec quelques autres ingrédients\n",
    "test_ingredients = [\"large eggs\", \"all purpose flour\", \"unsalted butter\"]\n",
    "for ing in test_ingredients:\n",
    "    result = preproc.normalize_ingredient(ing)\n",
    "    print(f\"'{ing}' -> '{result}'\")"
   ]
  },
  {
   "cell_type": "code",
   "execution_count": 20,
   "id": "7880971c",
   "metadata": {},
   "outputs": [
    {
     "name": "stdout",
     "output_type": "stream",
     "text": [
      "<class 'pandas.core.frame.DataFrame'>\n",
      "RangeIndex: 231637 entries, 0 to 231636\n",
      "Data columns (total 12 columns):\n",
      " #   Column          Non-Null Count   Dtype \n",
      "---  ------          --------------   ----- \n",
      " 0   name            231636 non-null  object\n",
      " 1   id              231637 non-null  int64 \n",
      " 2   minutes         231637 non-null  int64 \n",
      " 3   contributor_id  231637 non-null  int64 \n",
      " 4   submitted       231637 non-null  object\n",
      " 5   tags            231637 non-null  object\n",
      " 6   nutrition       231637 non-null  object\n",
      " 7   n_steps         231637 non-null  int64 \n",
      " 8   steps           231637 non-null  object\n",
      " 9   description     226658 non-null  object\n",
      " 10  ingredients     231637 non-null  object\n",
      " 11  n_ingredients   231637 non-null  int64 \n",
      "dtypes: int64(5), object(7)\n",
      "memory usage: 21.2+ MB\n"
     ]
    }
   ],
   "source": [
    "#recipes_df.head()\n",
    "recipes_df.info()"
   ]
  },
  {
   "cell_type": "code",
   "execution_count": 21,
   "id": "7181229e",
   "metadata": {},
   "outputs": [
    {
     "data": {
      "text/plain": [
       "'['"
      ]
     },
     "execution_count": 21,
     "metadata": {},
     "output_type": "execute_result"
    }
   ],
   "source": [
    "#steps_list=list(recipes_df['steps'])\n",
    "#steps_list[0][0]\n",
    "# steps va etre convertit en objet list \n",
    "recipes_df['description'][0]\n",
    "recipes_df['nutrition'][0]\n",
    "#recipes_df['ingredients'][0]\n",
    "#recipes_df['tags'][0]\n",
    "recipes_df['ingredients'][0][0]"
   ]
  },
  {
   "cell_type": "code",
   "execution_count": 22,
   "id": "9816dcec",
   "metadata": {},
   "outputs": [
    {
     "name": "stdout",
     "output_type": "stream",
     "text": [
      "<class 'pandas.core.frame.DataFrame'>\n",
      "RangeIndex: 1132367 entries, 0 to 1132366\n",
      "Data columns (total 5 columns):\n",
      " #   Column     Non-Null Count    Dtype \n",
      "---  ------     --------------    ----- \n",
      " 0   user_id    1132367 non-null  int64 \n",
      " 1   recipe_id  1132367 non-null  int64 \n",
      " 2   date       1132367 non-null  object\n",
      " 3   rating     1132367 non-null  int64 \n",
      " 4   review     1132198 non-null  object\n",
      "dtypes: int64(3), object(2)\n",
      "memory usage: 43.2+ MB\n"
     ]
    }
   ],
   "source": [
    "interactions_df.info()"
   ]
  },
  {
   "cell_type": "code",
   "execution_count": 46,
   "id": "59ba1718",
   "metadata": {},
   "outputs": [
    {
     "data": {
      "text/html": [
       "<div>\n",
       "<style scoped>\n",
       "    .dataframe tbody tr th:only-of-type {\n",
       "        vertical-align: middle;\n",
       "    }\n",
       "\n",
       "    .dataframe tbody tr th {\n",
       "        vertical-align: top;\n",
       "    }\n",
       "\n",
       "    .dataframe thead th {\n",
       "        text-align: right;\n",
       "    }\n",
       "</style>\n",
       "<table border=\"1\" class=\"dataframe\">\n",
       "  <thead>\n",
       "    <tr style=\"text-align: right;\">\n",
       "      <th></th>\n",
       "      <th>user_id</th>\n",
       "      <th>recipe_id</th>\n",
       "      <th>date</th>\n",
       "      <th>rating</th>\n",
       "      <th>review</th>\n",
       "    </tr>\n",
       "  </thead>\n",
       "  <tbody>\n",
       "    <tr>\n",
       "      <th>0</th>\n",
       "      <td>38094</td>\n",
       "      <td>40893</td>\n",
       "      <td>2003-02-17</td>\n",
       "      <td>4</td>\n",
       "      <td>Great with a salad. Cooked on top of stove for...</td>\n",
       "    </tr>\n",
       "    <tr>\n",
       "      <th>1</th>\n",
       "      <td>1293707</td>\n",
       "      <td>40893</td>\n",
       "      <td>2011-12-21</td>\n",
       "      <td>5</td>\n",
       "      <td>So simple, so delicious! Great for chilly fall...</td>\n",
       "    </tr>\n",
       "    <tr>\n",
       "      <th>2</th>\n",
       "      <td>8937</td>\n",
       "      <td>44394</td>\n",
       "      <td>2002-12-01</td>\n",
       "      <td>4</td>\n",
       "      <td>This worked very well and is EASY.  I used not...</td>\n",
       "    </tr>\n",
       "    <tr>\n",
       "      <th>3</th>\n",
       "      <td>126440</td>\n",
       "      <td>85009</td>\n",
       "      <td>2010-02-27</td>\n",
       "      <td>5</td>\n",
       "      <td>I made the Mexican topping and took it to bunk...</td>\n",
       "    </tr>\n",
       "    <tr>\n",
       "      <th>4</th>\n",
       "      <td>57222</td>\n",
       "      <td>85009</td>\n",
       "      <td>2011-10-01</td>\n",
       "      <td>5</td>\n",
       "      <td>Made the cheddar bacon topping, adding a sprin...</td>\n",
       "    </tr>\n",
       "  </tbody>\n",
       "</table>\n",
       "</div>"
      ],
      "text/plain": [
       "   user_id  recipe_id        date  rating  \\\n",
       "0    38094      40893  2003-02-17       4   \n",
       "1  1293707      40893  2011-12-21       5   \n",
       "2     8937      44394  2002-12-01       4   \n",
       "3   126440      85009  2010-02-27       5   \n",
       "4    57222      85009  2011-10-01       5   \n",
       "\n",
       "                                              review  \n",
       "0  Great with a salad. Cooked on top of stove for...  \n",
       "1  So simple, so delicious! Great for chilly fall...  \n",
       "2  This worked very well and is EASY.  I used not...  \n",
       "3  I made the Mexican topping and took it to bunk...  \n",
       "4  Made the cheddar bacon topping, adding a sprin...  "
      ]
     },
     "execution_count": 46,
     "metadata": {},
     "output_type": "execute_result"
    }
   ],
   "source": [
    "interactions_df.head()"
   ]
  },
  {
   "cell_type": "code",
   "execution_count": 23,
   "id": "046b0dce",
   "metadata": {},
   "outputs": [
    {
     "name": "stdout",
     "output_type": "stream",
     "text": [
      "Corrélation temps/ingrédients: -0.001\n"
     ]
    }
   ],
   "source": [
    "correlation = recipes_df[['minutes', 'n_ingredients']].corr()\n",
    "print(f\"Corrélation temps/ingrédients: {correlation.iloc[0,1]:.3f}\")"
   ]
  },
  {
   "cell_type": "code",
   "execution_count": null,
   "id": "fc30911a",
   "metadata": {},
   "outputs": [
    {
     "data": {
      "text/plain": [
       "\"['preheat oven to 425 degrees f', 'press dough into the bottom and sides of a 12 inch pizza pan', 'bake for 5 minutes until set but not browned', 'cut sausage into small pieces', 'whisk eggs and milk in a bowl until frothy', 'spoon sausage over baked crust and sprinkle with cheese', 'pour egg mixture slowly over sausage and cheese', 's& p to taste', 'bake 15-20 minutes or until eggs are set and crust is brown']\""
      ]
     },
     "execution_count": 7,
     "metadata": {},
     "output_type": "execute_result"
    }
   ],
   "source": [
    "#recipes_df['steps_count'] = recipes_df['steps'].apply(lambda x: len(x.split('||')) if pd.notnull(x) else 0)\n",
    "recipes_df['steps'][1]"
   ]
  },
  {
   "cell_type": "code",
   "execution_count": 10,
   "id": "eeb6f9be",
   "metadata": {},
   "outputs": [
    {
     "data": {
      "text/plain": [
       "(231637, 12)"
      ]
     },
     "execution_count": 10,
     "metadata": {},
     "output_type": "execute_result"
    }
   ],
   "source": [
    "recipes_df.shape"
   ]
  },
  {
   "cell_type": "code",
   "execution_count": null,
   "id": "8ead3078",
   "metadata": {},
   "outputs": [
    {
     "data": {
      "text/html": [
       "<div>\n",
       "<style scoped>\n",
       "    .dataframe tbody tr th:only-of-type {\n",
       "        vertical-align: middle;\n",
       "    }\n",
       "\n",
       "    .dataframe tbody tr th {\n",
       "        vertical-align: top;\n",
       "    }\n",
       "\n",
       "    .dataframe thead th {\n",
       "        text-align: right;\n",
       "    }\n",
       "</style>\n",
       "<table border=\"1\" class=\"dataframe\">\n",
       "  <thead>\n",
       "    <tr style=\"text-align: right;\">\n",
       "      <th></th>\n",
       "      <th>name</th>\n",
       "      <th>id</th>\n",
       "      <th>minutes</th>\n",
       "      <th>contributor_id</th>\n",
       "      <th>submitted</th>\n",
       "      <th>tags</th>\n",
       "      <th>nutrition</th>\n",
       "      <th>n_steps</th>\n",
       "      <th>steps</th>\n",
       "      <th>description</th>\n",
       "      <th>ingredients</th>\n",
       "      <th>n_ingredients</th>\n",
       "    </tr>\n",
       "  </thead>\n",
       "  <tbody>\n",
       "    <tr>\n",
       "      <th>5</th>\n",
       "      <td>apple a day  milk shake</td>\n",
       "      <td>5289</td>\n",
       "      <td>0</td>\n",
       "      <td>1533</td>\n",
       "      <td>1999-12-06</td>\n",
       "      <td>['15-minutes-or-less', 'time-to-make', 'course...</td>\n",
       "      <td>[160.2, 10.0, 55.0, 3.0, 9.0, 20.0, 7.0]</td>\n",
       "      <td>4</td>\n",
       "      <td>['combine ingredients in blender', 'cover and ...</td>\n",
       "      <td>NaN</td>\n",
       "      <td>['milk', 'vanilla ice cream', 'frozen apple ju...</td>\n",
       "      <td>4</td>\n",
       "    </tr>\n",
       "    <tr>\n",
       "      <th>2451</th>\n",
       "      <td>acorn magic delights</td>\n",
       "      <td>1712</td>\n",
       "      <td>0</td>\n",
       "      <td>1534</td>\n",
       "      <td>1999-10-01</td>\n",
       "      <td>['15-minutes-or-less', 'time-to-make', 'course...</td>\n",
       "      <td>[148.4, 15.0, 28.0, 2.0, 3.0, 21.0, 4.0]</td>\n",
       "      <td>13</td>\n",
       "      <td>['melt the butter or margarine over low heat',...</td>\n",
       "      <td>NaN</td>\n",
       "      <td>['butter', 'brown sugar', 'pecans', 'all-purpo...</td>\n",
       "      <td>7</td>\n",
       "    </tr>\n",
       "    <tr>\n",
       "      <th>3079</th>\n",
       "      <td>albanian byrek</td>\n",
       "      <td>4880</td>\n",
       "      <td>0</td>\n",
       "      <td>1534</td>\n",
       "      <td>1999-11-24</td>\n",
       "      <td>['15-minutes-or-less', 'time-to-make', 'course...</td>\n",
       "      <td>[354.4, 42.0, 25.0, 59.0, 37.0, 37.0, 2.0]</td>\n",
       "      <td>14</td>\n",
       "      <td>['prepare the dough with flour , 1 and a half ...</td>\n",
       "      <td>the directions to this are vague, but maybe yo...</td>\n",
       "      <td>['flour', 'water', 'oil', 'vinegar', 'salt', '...</td>\n",
       "      <td>9</td>\n",
       "    </tr>\n",
       "    <tr>\n",
       "      <th>3193</th>\n",
       "      <td>alfredo sauce with pasta</td>\n",
       "      <td>3258</td>\n",
       "      <td>0</td>\n",
       "      <td>1534</td>\n",
       "      <td>1999-10-10</td>\n",
       "      <td>['15-minutes-or-less', 'time-to-make', 'course...</td>\n",
       "      <td>[1902.9, 287.0, 5.0, 140.0, 104.0, 583.0, 3.0]</td>\n",
       "      <td>8</td>\n",
       "      <td>['cook noodles or fettuccine according to pack...</td>\n",
       "      <td>NaN</td>\n",
       "      <td>['butter', 'heavy cream', 'parmesan cheese', '...</td>\n",
       "      <td>6</td>\n",
       "    </tr>\n",
       "    <tr>\n",
       "      <th>3259</th>\n",
       "      <td>alice s doughnuts</td>\n",
       "      <td>2284</td>\n",
       "      <td>0</td>\n",
       "      <td>1752</td>\n",
       "      <td>1999-10-18</td>\n",
       "      <td>['15-minutes-or-less', 'time-to-make', 'course...</td>\n",
       "      <td>[107.3, 6.0, 20.0, 3.0, 3.0, 10.0, 4.0]</td>\n",
       "      <td>17</td>\n",
       "      <td>['in a large bowl , beat the eggs until foamy'...</td>\n",
       "      <td>NaN</td>\n",
       "      <td>['eggs', 'sugar', 'milk', 'shortening', 'vanil...</td>\n",
       "      <td>9</td>\n",
       "    </tr>\n",
       "  </tbody>\n",
       "</table>\n",
       "</div>"
      ],
      "text/plain": [
       "                          name    id  minutes  contributor_id   submitted  \\\n",
       "5      apple a day  milk shake  5289        0            1533  1999-12-06   \n",
       "2451      acorn magic delights  1712        0            1534  1999-10-01   \n",
       "3079            albanian byrek  4880        0            1534  1999-11-24   \n",
       "3193  alfredo sauce with pasta  3258        0            1534  1999-10-10   \n",
       "3259         alice s doughnuts  2284        0            1752  1999-10-18   \n",
       "\n",
       "                                                   tags  \\\n",
       "5     ['15-minutes-or-less', 'time-to-make', 'course...   \n",
       "2451  ['15-minutes-or-less', 'time-to-make', 'course...   \n",
       "3079  ['15-minutes-or-less', 'time-to-make', 'course...   \n",
       "3193  ['15-minutes-or-less', 'time-to-make', 'course...   \n",
       "3259  ['15-minutes-or-less', 'time-to-make', 'course...   \n",
       "\n",
       "                                           nutrition  n_steps  \\\n",
       "5           [160.2, 10.0, 55.0, 3.0, 9.0, 20.0, 7.0]        4   \n",
       "2451        [148.4, 15.0, 28.0, 2.0, 3.0, 21.0, 4.0]       13   \n",
       "3079      [354.4, 42.0, 25.0, 59.0, 37.0, 37.0, 2.0]       14   \n",
       "3193  [1902.9, 287.0, 5.0, 140.0, 104.0, 583.0, 3.0]        8   \n",
       "3259         [107.3, 6.0, 20.0, 3.0, 3.0, 10.0, 4.0]       17   \n",
       "\n",
       "                                                  steps  \\\n",
       "5     ['combine ingredients in blender', 'cover and ...   \n",
       "2451  ['melt the butter or margarine over low heat',...   \n",
       "3079  ['prepare the dough with flour , 1 and a half ...   \n",
       "3193  ['cook noodles or fettuccine according to pack...   \n",
       "3259  ['in a large bowl , beat the eggs until foamy'...   \n",
       "\n",
       "                                            description  \\\n",
       "5                                                   NaN   \n",
       "2451                                                NaN   \n",
       "3079  the directions to this are vague, but maybe yo...   \n",
       "3193                                                NaN   \n",
       "3259                                                NaN   \n",
       "\n",
       "                                            ingredients  n_ingredients  \n",
       "5     ['milk', 'vanilla ice cream', 'frozen apple ju...              4  \n",
       "2451  ['butter', 'brown sugar', 'pecans', 'all-purpo...              7  \n",
       "3079  ['flour', 'water', 'oil', 'vinegar', 'salt', '...              9  \n",
       "3193  ['butter', 'heavy cream', 'parmesan cheese', '...              6  \n",
       "3259  ['eggs', 'sugar', 'milk', 'shortening', 'vanil...              9  "
      ]
     },
     "execution_count": 11,
     "metadata": {},
     "output_type": "execute_result"
    }
   ],
   "source": [
    "#print(fastest[['name', 'minutes', 'n_ingredients']])\n",
    "#recipes_df[recipes_df['minutes'] == 0].count()\n",
    "# imputing missing values de minutes en utilisant la variable nombre d'ingrédients \n",
    "recipes_df[recipes_df['minutes'] == 0].head()"
   ]
  },
  {
   "cell_type": "code",
   "execution_count": null,
   "id": "c936c1fc",
   "metadata": {},
   "outputs": [],
   "source": [
    "#fastest = recipes_df.nsmallest(10, 'minutes')\n"
   ]
  },
  {
   "cell_type": "code",
   "execution_count": 24,
   "id": "d09f0a1c",
   "metadata": {},
   "outputs": [
    {
     "data": {
      "text/plain": [
       "'lean pork chops'"
      ]
     },
     "execution_count": 24,
     "metadata": {},
     "output_type": "execute_result"
    }
   ],
   "source": [
    "#recipes_df['ingredients'].head()\n",
    "import ast\n",
    "ingredients = ast.literal_eval(recipes_df['ingredients'][15])\n",
    "ingredients[0]"
   ]
  },
  {
   "cell_type": "code",
   "execution_count": 25,
   "id": "175450ea",
   "metadata": {},
   "outputs": [],
   "source": [
    "# catégories des ingrédients\n",
    "categories = {\n",
    "        'proteins': ['chicken', 'beef', 'pork', 'fish', 'salmon', 'tuna', 'shrimp', \n",
    "                     'turkey', 'lamb', 'egg', 'tofu', 'tempeh'],\n",
    "        'dairy': ['milk', 'cheese', 'butter', 'cream', 'yogurt', 'sour cream'],\n",
    "        'vegetables': ['tomato', 'onion', 'garlic', 'carrot', 'potato', 'broccoli',\n",
    "                       'spinach', 'pepper', 'mushroom', 'lettuce', 'cucumber'],\n",
    "        'fruits': ['apple', 'banana', 'orange', 'lemon', 'strawberry', 'blueberry'],\n",
    "        'grains': ['flour', 'rice', 'pasta', 'bread', 'oat', 'quinoa', 'wheat'],\n",
    "        'spices': ['salt', 'pepper', 'cumin', 'paprika', 'cinnamon', 'basil', \n",
    "                   'oregano', 'thyme', 'rosemary'],\n",
    "        'oils': ['olive oil', 'vegetable oil', 'coconut oil', 'butter'],\n",
    "        'sweeteners': ['sugar', 'honey', 'maple syrup', 'brown sugar']\n",
    "    }\n"
   ]
  },
  {
   "cell_type": "code",
   "execution_count": 30,
   "id": "f71f9fde",
   "metadata": {},
   "outputs": [
    {
     "data": {
      "text/html": [
       "<div>\n",
       "<style scoped>\n",
       "    .dataframe tbody tr th:only-of-type {\n",
       "        vertical-align: middle;\n",
       "    }\n",
       "\n",
       "    .dataframe tbody tr th {\n",
       "        vertical-align: top;\n",
       "    }\n",
       "\n",
       "    .dataframe thead th {\n",
       "        text-align: right;\n",
       "    }\n",
       "</style>\n",
       "<table border=\"1\" class=\"dataframe\">\n",
       "  <thead>\n",
       "    <tr style=\"text-align: right;\">\n",
       "      <th></th>\n",
       "      <th>ingredients</th>\n",
       "      <th>clean_ingredients</th>\n",
       "    </tr>\n",
       "  </thead>\n",
       "  <tbody>\n",
       "    <tr>\n",
       "      <th>0</th>\n",
       "      <td>['winter squash', 'mexican seasoning', 'mixed ...</td>\n",
       "      <td>[olive oil, butter, honey, winter squash, salt...</td>\n",
       "    </tr>\n",
       "    <tr>\n",
       "      <th>1</th>\n",
       "      <td>['prepared pizza crust', 'sausage patty', 'egg...</td>\n",
       "      <td>[sausage, egg, milk, pizza crust, salt and pep...</td>\n",
       "    </tr>\n",
       "    <tr>\n",
       "      <th>2</th>\n",
       "      <td>['ground beef', 'yellow onions', 'diced tomato...</td>\n",
       "      <td>[yellow onion, ground cumin, lettuce, ground b...</td>\n",
       "    </tr>\n",
       "    <tr>\n",
       "      <th>3</th>\n",
       "      <td>['spreadable cheese with garlic and herbs', 'n...</td>\n",
       "      <td>[olive oil, yellow bell pepper, red bell peppe...</td>\n",
       "    </tr>\n",
       "    <tr>\n",
       "      <th>4</th>\n",
       "      <td>['tomato juice', 'apple cider vinegar', 'sugar...</td>\n",
       "      <td>[pepper, clove oil, cinnamon oil, sugar, salt,...</td>\n",
       "    </tr>\n",
       "  </tbody>\n",
       "</table>\n",
       "</div>"
      ],
      "text/plain": [
       "                                         ingredients  \\\n",
       "0  ['winter squash', 'mexican seasoning', 'mixed ...   \n",
       "1  ['prepared pizza crust', 'sausage patty', 'egg...   \n",
       "2  ['ground beef', 'yellow onions', 'diced tomato...   \n",
       "3  ['spreadable cheese with garlic and herbs', 'n...   \n",
       "4  ['tomato juice', 'apple cider vinegar', 'sugar...   \n",
       "\n",
       "                                   clean_ingredients  \n",
       "0  [olive oil, butter, honey, winter squash, salt...  \n",
       "1  [sausage, egg, milk, pizza crust, salt and pep...  \n",
       "2  [yellow onion, ground cumin, lettuce, ground b...  \n",
       "3  [olive oil, yellow bell pepper, red bell peppe...  \n",
       "4  [pepper, clove oil, cinnamon oil, sugar, salt,...  "
      ]
     },
     "execution_count": 30,
     "metadata": {},
     "output_type": "execute_result"
    }
   ],
   "source": [
    "subset = recipes_df.head(500).copy()\n",
    "subset[\"clean_ingredients\"] = subset[\"ingredients\"].apply(preproc.parse_and_clean)\n",
    "subset[[\"ingredients\", \"clean_ingredients\"]].head()"
   ]
  },
  {
   "cell_type": "code",
   "execution_count": 31,
   "id": "e7142207",
   "metadata": {},
   "outputs": [
    {
     "data": {
      "text/plain": [
       "0    {'oils': ['olive oil', 'butter'], 'sweeteners'...\n",
       "1    {'other': ['sausage', 'pizza crust'], 'protein...\n",
       "2    {'vegetables': ['yellow onion', 'lettuce', 'ro...\n",
       "3    {'oils': ['olive oil'], 'spices': ['yellow bel...\n",
       "4    {'spices': ['pepper', 'cinnamon oil', 'salt'],...\n",
       "Name: ingredient_categories, dtype: object"
      ]
     },
     "execution_count": 31,
     "metadata": {},
     "output_type": "execute_result"
    }
   ],
   "source": [
    "subset[\"ingredient_categories\"] = subset[\"clean_ingredients\"].apply(preproc.categorize)\n",
    "subset[\"ingredient_categories\"].head()"
   ]
  },
  {
   "cell_type": "code",
   "execution_count": 36,
   "id": "f4ed9cde",
   "metadata": {},
   "outputs": [
    {
     "name": "stdout",
     "output_type": "stream",
     "text": [
      "extra virgin olive oil -> olive oil\n",
      "large eggs -> large eggs\n",
      "fresh basil leaves -> fresh basil leaf\n",
      "granulated sugar -> granulated sugar\n",
      "unsalted butter -> unsalted butter\n"
     ]
    }
   ],
   "source": [
    "tests = [\"extra virgin olive oil\", \"large eggs\", \"fresh basil leaves\", \"granulated sugar\", \"unsalted butter\"]\n",
    "for t in tests:\n",
    "    print(t, \"->\", preproc.normalize_ingredient(t))"
   ]
  },
  {
   "cell_type": "code",
   "execution_count": 37,
   "id": "1a0a79c1",
   "metadata": {},
   "outputs": [
    {
     "data": {
      "text/plain": [
       "[('salt', 178),\n",
       " ('egg', 125),\n",
       " ('butter', 111),\n",
       " ('onion', 109),\n",
       " ('sugar', 80),\n",
       " ('water', 76),\n",
       " ('milk', 74),\n",
       " ('flmy', 69),\n",
       " ('pepper', 60),\n",
       " ('garlic clove', 57),\n",
       " ('olive oil', 54),\n",
       " ('brown sugar', 46),\n",
       " ('vanilla', 42),\n",
       " ('baking powder', 39),\n",
       " ('baking soda', 37)]"
      ]
     },
     "execution_count": 37,
     "metadata": {},
     "output_type": "execute_result"
    }
   ],
   "source": [
    "from collections import Counter\n",
    "all_clean = [ing for lst in subset[\"clean_ingredients\"] for ing in lst]\n",
    "Counter(all_clean).most_common(15)"
   ]
  },
  {
   "cell_type": "code",
   "execution_count": 38,
   "id": "3f840f12",
   "metadata": {},
   "outputs": [
    {
     "data": {
      "text/plain": [
       "count    500.000000\n",
       "mean       9.092000\n",
       "std        4.042303\n",
       "min        2.000000\n",
       "25%        6.000000\n",
       "50%        9.000000\n",
       "75%       11.250000\n",
       "max       23.000000\n",
       "Name: clean_ingredients, dtype: float64"
      ]
     },
     "execution_count": 38,
     "metadata": {},
     "output_type": "execute_result"
    }
   ],
   "source": [
    "subset[\"clean_ingredients\"].apply(len).describe()"
   ]
  },
  {
   "cell_type": "code",
   "execution_count": 42,
   "id": "8e36116b",
   "metadata": {},
   "outputs": [
    {
     "data": {
      "text/plain": [
       "['cups all-purpose flour', 'garlic', 'olive oil', 'black pepper', 'tomatoes']"
      ]
     },
     "execution_count": 42,
     "metadata": {},
     "output_type": "execute_result"
    }
   ],
   "source": [
    "raw_ingredients = [\"2 Cups All-Purpose Flour\", \"Fresh Garlic\", \"Olive Oil\", \"Ground black pepper\", \"Diced Tomatoes\"]\n",
    "cleaned = [preproc.normalize_ingredient(x) for x in raw_ingredients]\n",
    "cleaned"
   ]
  },
  {
   "cell_type": "code",
   "execution_count": 43,
   "id": "5835e127",
   "metadata": {},
   "outputs": [
    {
     "name": "stdout",
     "output_type": "stream",
     "text": [
      "extra virgin olive oil -> extra virgin olive oil\n",
      "large eggs -> large eggs\n",
      "fresh basil leaves -> basil leaves\n",
      "granulated sugar -> granulated sugar\n",
      "unsalted butter -> unsalted butter\n"
     ]
    }
   ],
   "source": [
    "tests = [\"extra virgin olive oil\", \"large eggs\", \"fresh basil leaves\", \"granulated sugar\", \"unsalted butter\"]\n",
    "for t in tests:\n",
    "    print(t, \"->\", preproc.normalize_ingredient(t))"
   ]
  },
  {
   "cell_type": "markdown",
   "id": "50de83aa",
   "metadata": {},
   "source": [
    "Fin de la première étape de pre-traitement. Nous avons donc réussi à convertir le fichier pkl en csv et l'exploiter pour normaliser nos données textuelles.\n",
    "\n",
    "On va donc appliquer la fonction normalisation sur la variable ingredients de notre dataset qui est dans recipes_df. "
   ]
  },
  {
   "cell_type": "code",
   "execution_count": 75,
   "id": "c637e387",
   "metadata": {},
   "outputs": [
    {
     "name": "stdout",
     "output_type": "stream",
     "text": [
      "Normalisation en cours...\n",
      "✅ Normalisation terminée!\n",
      "Forme du dataset: (231637, 13)\n",
      "✅ Normalisation terminée!\n",
      "Forme du dataset: (231637, 13)\n"
     ]
    }
   ],
   "source": [
    "# Appliquer la normalisation sur toute la colonne ingredients\n",
    "# Ajouter directement une nouvelle colonne au DataFrame existant\n",
    "print(\"Normalisation en cours...\")\n",
    "\n",
    "# Appliquer la fonction parse_and_clean sur chaque recette\n",
    "recipes_df[\"normalized_ingredients\"] = recipes_df[\"ingredients\"].apply(preproc.parse_and_clean)\n",
    "\n",
    "print(\"✅ Normalisation terminée!\")\n",
    "print(f\"Forme du dataset: {recipes_df.shape}\")\n"
   ]
  },
  {
   "cell_type": "code",
   "execution_count": 76,
   "id": "15b8e684",
   "metadata": {},
   "outputs": [
    {
     "name": "stdout",
     "output_type": "stream",
     "text": [
      "\n",
      "📋 Exemples avant/après normalisation:\n",
      "\n",
      "--- Recette 1 ---\n",
      "Avant: ['winter squash', 'mexican seasoning', 'mixed spice', 'honey', 'butter', 'olive oil', 'salt']\n",
      "Après: ['olive oil', 'butter', 'honey', 'winter squash', 'salt', 'mixed spice', 'mexican seasoning']\n",
      "\n",
      "--- Recette 2 ---\n",
      "Avant: ['prepared pizza crust', 'sausage patty', 'eggs', 'milk', 'salt and pepper', 'cheese']\n",
      "Après: ['eggs', 'milk', 'salt and pepper', 'cheese', 'sausage patty', 'prepared pizza crust']\n",
      "\n",
      "--- Recette 3 ---\n",
      "Avant: ['ground beef', 'yellow onions', 'diced tomatoes', 'tomato paste', 'tomato soup', 'rotel tomatoes', 'kidney beans', 'water', 'chili powder', 'ground cumin', 'salt', 'lettuce', 'cheddar cheese']\n",
      "Après: ['lettuce', 'yellow onions', 'chili powder', 'tomatoes', 'cumin', 'rotel tomatoes', 'water', 'tomato paste', 'cheddar cheese', 'salt', 'kidney beans', 'tomato soup', 'beef']\n"
     ]
    },
    {
     "data": {
      "text/html": [
       "<div>\n",
       "<style scoped>\n",
       "    .dataframe tbody tr th:only-of-type {\n",
       "        vertical-align: middle;\n",
       "    }\n",
       "\n",
       "    .dataframe tbody tr th {\n",
       "        vertical-align: top;\n",
       "    }\n",
       "\n",
       "    .dataframe thead th {\n",
       "        text-align: right;\n",
       "    }\n",
       "</style>\n",
       "<table border=\"1\" class=\"dataframe\">\n",
       "  <thead>\n",
       "    <tr style=\"text-align: right;\">\n",
       "      <th></th>\n",
       "      <th>name</th>\n",
       "      <th>ingredients</th>\n",
       "      <th>normalized_ingredients</th>\n",
       "    </tr>\n",
       "  </thead>\n",
       "  <tbody>\n",
       "    <tr>\n",
       "      <th>0</th>\n",
       "      <td>arriba   baked winter squash mexican style</td>\n",
       "      <td>['winter squash', 'mexican seasoning', 'mixed ...</td>\n",
       "      <td>[olive oil, butter, honey, winter squash, salt...</td>\n",
       "    </tr>\n",
       "    <tr>\n",
       "      <th>1</th>\n",
       "      <td>a bit different  breakfast pizza</td>\n",
       "      <td>['prepared pizza crust', 'sausage patty', 'egg...</td>\n",
       "      <td>[eggs, milk, salt and pepper, cheese, sausage ...</td>\n",
       "    </tr>\n",
       "    <tr>\n",
       "      <th>2</th>\n",
       "      <td>all in the kitchen  chili</td>\n",
       "      <td>['ground beef', 'yellow onions', 'diced tomato...</td>\n",
       "      <td>[lettuce, yellow onions, chili powder, tomatoe...</td>\n",
       "    </tr>\n",
       "    <tr>\n",
       "      <th>3</th>\n",
       "      <td>alouette  potatoes</td>\n",
       "      <td>['spreadable cheese with garlic and herbs', 'n...</td>\n",
       "      <td>[olive oil, yellow bell pepper, new potatoes, ...</td>\n",
       "    </tr>\n",
       "    <tr>\n",
       "      <th>4</th>\n",
       "      <td>amish  tomato ketchup  for canning</td>\n",
       "      <td>['tomato juice', 'apple cider vinegar', 'sugar...</td>\n",
       "      <td>[pepper, clove oil, cinnamon oil, sugar, salt,...</td>\n",
       "    </tr>\n",
       "  </tbody>\n",
       "</table>\n",
       "</div>"
      ],
      "text/plain": [
       "                                         name  \\\n",
       "0  arriba   baked winter squash mexican style   \n",
       "1            a bit different  breakfast pizza   \n",
       "2                   all in the kitchen  chili   \n",
       "3                          alouette  potatoes   \n",
       "4          amish  tomato ketchup  for canning   \n",
       "\n",
       "                                         ingredients  \\\n",
       "0  ['winter squash', 'mexican seasoning', 'mixed ...   \n",
       "1  ['prepared pizza crust', 'sausage patty', 'egg...   \n",
       "2  ['ground beef', 'yellow onions', 'diced tomato...   \n",
       "3  ['spreadable cheese with garlic and herbs', 'n...   \n",
       "4  ['tomato juice', 'apple cider vinegar', 'sugar...   \n",
       "\n",
       "                              normalized_ingredients  \n",
       "0  [olive oil, butter, honey, winter squash, salt...  \n",
       "1  [eggs, milk, salt and pepper, cheese, sausage ...  \n",
       "2  [lettuce, yellow onions, chili powder, tomatoe...  \n",
       "3  [olive oil, yellow bell pepper, new potatoes, ...  \n",
       "4  [pepper, clove oil, cinnamon oil, sugar, salt,...  "
      ]
     },
     "execution_count": 76,
     "metadata": {},
     "output_type": "execute_result"
    }
   ],
   "source": [
    "# Comparer quelques exemples avant/après\n",
    "print(\"\\n📋 Exemples avant/après normalisation:\")\n",
    "for i in range(3):\n",
    "    print(f\"\\n--- Recette {i+1} ---\")\n",
    "    print(f\"Avant: {recipes_df.iloc[i]['ingredients']}\")\n",
    "    print(f\"Après: {recipes_df.iloc[i]['normalized_ingredients']}\")\n",
    "    \n",
    "recipes_df[[\"name\", \"ingredients\", \"normalized_ingredients\"]].head()"
   ]
  },
  {
   "cell_type": "code",
   "execution_count": 84,
   "id": "d3f75633",
   "metadata": {},
   "outputs": [
    {
     "name": "stdout",
     "output_type": "stream",
     "text": [
      "📊 Analyse des ingrédients normalisés:\n",
      "Nombre total de recettes: 231637\n",
      "Nombre moyen d'ingrédients par recette: 9.0\n",
      "\n",
      "🥇 Top 20 des ingrédients les plus fréquents:\n",
      " 1. salt                 : 85,746 fois\n",
      " 2. butter               : 54,975 fois\n",
      " 3. sugar                : 44,535 fois\n",
      " 4. onion                : 39,786 fois\n",
      " 5. water                : 34,926 fois\n",
      " 6. eggs                 : 33,761 fois\n",
      " 7. olive oil            : 32,822 fois\n",
      " 8. garlic cloves        : 26,723 fois\n",
      " 9. pepper               : 26,633 fois\n",
      "10. flour                : 26,266 fois\n",
      "11. milk                 : 25,799 fois\n",
      "12. black pepper         : 24,271 fois\n",
      "13. lemon juice          : 19,506 fois\n",
      "14. cinnamon             : 19,316 fois\n",
      "15. garlic               : 19,072 fois\n",
      "16. brown sugar          : 18,655 fois\n",
      "17. all-purpose flour    : 17,659 fois\n",
      "18. baking powder        : 17,504 fois\n",
      "19. egg                  : 17,304 fois\n",
      "20. tomatoes             : 16,602 fois\n",
      "\n",
      "📋 Colonnes du DataFrame: ['name', 'id', 'minutes', 'contributor_id', 'submitted', 'tags', 'nutrition', 'n_steps', 'steps', 'description', 'ingredients', 'n_ingredients', 'normalized_ingredients']\n"
     ]
    }
   ],
   "source": [
    "# Analyser les résultats de la normalisation\n",
    "print(\"📊 Analyse des ingrédients normalisés:\")\n",
    "print(f\"Nombre total de recettes: {len(recipes_df)}\")\n",
    "\n",
    "# Calculer le nombre moyen d'ingrédients par recette\n",
    "avg_ingredients = recipes_df[\"normalized_ingredients\"].apply(len).mean()\n",
    "print(f\"Nombre moyen d'ingrédients par recette: {avg_ingredients:.1f}\")\n",
    "\n",
    "# Top 20 des ingrédients les plus fréquents après normalisation\n",
    "from collections import Counter\n",
    "all_normalized_ingredients = [ing for ingredients_list in recipes_df[\"normalized_ingredients\"] for ing in ingredients_list]\n",
    "most_common = Counter(all_normalized_ingredients).most_common(20)\n",
    "\n",
    "print(\"\\n🥇 Top 20 des ingrédients les plus fréquents:\")\n",
    "for i, (ingredient, count) in enumerate(most_common, 1):\n",
    "    print(f\"{i:2d}. {ingredient:<20} : {count:>6,} fois\")\n",
    "\n",
    "\n",
    "# Afficher les colonnes du DataFrame\n",
    "print(f\"\\n📋 Colonnes du DataFrame: {list(recipes_df.columns)}\")"
   ]
  },
  {
   "cell_type": "code",
   "execution_count": 81,
   "id": "783344f6",
   "metadata": {},
   "outputs": [
    {
     "name": "stderr",
     "output_type": "stream",
     "text": [
      "ERROR:data_prepro:Erreur parsing nutrition: malformed node or string on line 1: <ast.Name object at 0xfffec2f3a2f0>\n"
     ]
    },
    {
     "name": "stdout",
     "output_type": "stream",
     "text": [
      "🧪 TEST DE LA CLASSE NutritionPreprocessor\n",
      "==================================================\n",
      "\n",
      "📊 Test 1: Parsing nutrition normale\n",
      "Input: [200.5, 10.2, 15.8, 25.0, 5.5, 12.3, 800.0]\n",
      "Output: {'calories': 200.5, 'fat': 10.2, 'total_fat': 15.8, 'carbohydrates': 25.0, 'sugar': 5.5, 'protein': 12.3, 'sodium': 800.0}\n",
      "\n",
      "🏥 Test 2: Calcul du health score\n",
      "Health Score: 1\n",
      "\n",
      "🥗 Test 3: Données réelles du dataset\n",
      "Nutrition originale: [51.5, 0.0, 13.0, 0.0, 2.0, 0.0, 4.0]\n",
      "Parsed: {'calories': 51.5, 'fat': 0.0, 'total_fat': 13.0, 'carbohydrates': 0.0, 'sugar': 2.0, 'protein': 0.0, 'sodium': 4.0}\n",
      "Health Score: 1\n",
      "\n",
      "❌ Test 4: Gestion d'erreurs\n",
      "Input malformé: [200.5, 10.2, invalid, 25.0]\n",
      "Résultat: {}\n",
      "\n",
      "📈 Test 5: Analyse de plusieurs recettes\n",
      "\n",
      "📋 Résultats pour 10 recettes:\n",
      "ID  Calories Protein Sugar  Health Score\n",
      "----------------------------------------\n",
      "0   51.5     0.0     2.0    1.00        \n",
      "1   173.4    35.0    22.0   1.00        \n",
      "2   269.8    27.0    39.0   1.00        \n",
      "3   368.1    8.0     14.0   1.00        \n",
      "4   352.9    0.0     3.0    1.00        \n",
      "5   160.2    20.0    9.0    1.00        \n",
      "6   380.7    24.0    6.0    1.00        \n",
      "7   1109.5   86.0    96.0   0.82        \n",
      "8   4270.8   431.0   127.0  0.00        \n",
      "9   2669.3   310.0   62.0   0.21        \n",
      "\n",
      "🔬 Test 6: Comparaison de profils nutritionnels\n",
      "\n",
      "Recette saine:\n",
      "  Calories: 300.0\n",
      "  Protéines: 20.0g\n",
      "  Sucre: 5.0g\n",
      "  Sodium: 500.0mg\n",
      "  🏥 Health Score: 1\n",
      "\n",
      "Recette riche:\n",
      "  Calories: 800.0\n",
      "  Protéines: 15.0g\n",
      "  Sucre: 15.0g\n",
      "  Sodium: 1500.0mg\n",
      "  🏥 Health Score: 1\n",
      "\n",
      "Dessert sucré:\n",
      "  Calories: 450.0\n",
      "  Protéines: 8.0g\n",
      "  Sucre: 35.0g\n",
      "  Sodium: 200.0mg\n",
      "  🏥 Health Score: 1\n",
      "\n",
      "✅ Tests terminés!\n"
     ]
    }
   ],
   "source": [
    "from data_prepro import NutritionPreprocessor\n",
    "# Nouvelle cellule - Test de NutritionPreprocessor\n",
    "print(\"🧪 TEST DE LA CLASSE NutritionPreprocessor\")\n",
    "print(\"=\" * 50)\n",
    "\n",
    "# Recharger le module pour prendre en compte les modifications\n",
    "import importlib\n",
    "importlib.reload(data_prepro)\n",
    "from data_prepro import NutritionPreprocessor\n",
    "\n",
    "# Créer une instance du preprocessor\n",
    "nutrition_processor = NutritionPreprocessor()\n",
    "\n",
    "# Test 1: Parsing d'une chaîne nutrition normale\n",
    "print(\"\\n📊 Test 1: Parsing nutrition normale\")\n",
    "test_nutrition_str = \"[200.5, 10.2, 15.8, 25.0, 5.5, 12.3, 800.0]\"\n",
    "print(f\"Input: {test_nutrition_str}\")\n",
    "parsed_nutrition = nutrition_processor.parse_nutrition(test_nutrition_str)\n",
    "print(f\"Output: {parsed_nutrition}\")\n",
    "\n",
    "# Test 2: Calcul du health score\n",
    "print(f\"\\n🏥 Test 2: Calcul du health score\")\n",
    "health_score = nutrition_processor.compute_health_score(parsed_nutrition)\n",
    "print(f\"Health Score: {health_score}\")\n",
    "\n",
    "# Test 3: Exemple avec des données réelles du dataset\n",
    "print(f\"\\n🥗 Test 3: Données réelles du dataset\")\n",
    "if 'nutrition' in recipes_df.columns:\n",
    "    real_nutrition_str = recipes_df['nutrition'].iloc[0]\n",
    "    print(f\"Nutrition originale: {real_nutrition_str}\")\n",
    "    \n",
    "    real_parsed = nutrition_processor.parse_nutrition(real_nutrition_str)\n",
    "    print(f\"Parsed: {real_parsed}\")\n",
    "    \n",
    "    real_health_score = nutrition_processor.compute_health_score(real_parsed)\n",
    "    print(f\"Health Score: {real_health_score}\")\n",
    "\n",
    "# Test 4: Cas d'erreur - chaîne malformée\n",
    "print(f\"\\n❌ Test 4: Gestion d'erreurs\")\n",
    "malformed_str = \"[200.5, 10.2, invalid, 25.0]\"\n",
    "print(f\"Input malformé: {malformed_str}\")\n",
    "error_result = nutrition_processor.parse_nutrition(malformed_str)\n",
    "print(f\"Résultat: {error_result}\")\n",
    "\n",
    "# Test 5: Test avec plusieurs exemples du dataset\n",
    "print(f\"\\n📈 Test 5: Analyse de plusieurs recettes\")\n",
    "sample_size = 10\n",
    "nutrition_results = []\n",
    "\n",
    "for i in range(min(sample_size, len(recipes_df))):\n",
    "    nutrition_str = recipes_df['nutrition'].iloc[i]\n",
    "    parsed = nutrition_processor.parse_nutrition(nutrition_str)\n",
    "    if parsed:  # Si le parsing a réussi\n",
    "        health_score = nutrition_processor.compute_health_score(parsed)\n",
    "        nutrition_results.append({\n",
    "            'recipe_id': i,\n",
    "            'calories': parsed.get('calories', 0),\n",
    "            'protein': parsed.get('protein', 0),\n",
    "            'sugar': parsed.get('sugar', 0),\n",
    "            'health_score': health_score\n",
    "        })\n",
    "\n",
    "# Afficher les résultats\n",
    "print(f\"\\n📋 Résultats pour {len(nutrition_results)} recettes:\")\n",
    "print(f\"{'ID':<3} {'Calories':<8} {'Protein':<7} {'Sugar':<6} {'Health Score':<12}\")\n",
    "print(\"-\" * 40)\n",
    "for result in nutrition_results:\n",
    "    print(f\"{result['recipe_id']:<3} {result['calories']:<8.1f} {result['protein']:<7.1f} \"\n",
    "          f\"{result['sugar']:<6.1f} {result['health_score']:<12.2f}\")\n",
    "\n",
    "# Test 6: Comparaison de différents profils nutritionnels\n",
    "print(f\"\\n🔬 Test 6: Comparaison de profils nutritionnels\")\n",
    "\n",
    "test_profiles = [\n",
    "    {\n",
    "        'name': 'Recette saine',\n",
    "        'nutrition': [300, 8, 12, 40, 5, 20, 500]  # Faible en calories, bon en protéines\n",
    "    },\n",
    "    {\n",
    "        'name': 'Recette riche',\n",
    "        'nutrition': [800, 35, 45, 60, 15, 15, 1500]  # Riche en calories et sodium\n",
    "    },\n",
    "    {\n",
    "        'name': 'Dessert sucré',\n",
    "        'nutrition': [450, 20, 25, 55, 35, 8, 200]  # Riche en sucre\n",
    "    }\n",
    "]\n",
    "\n",
    "for profile in test_profiles:\n",
    "    # Simuler une chaîne nutrition\n",
    "    nutrition_str = str(profile['nutrition'])\n",
    "    parsed = nutrition_processor.parse_nutrition(nutrition_str)\n",
    "    health_score = NutritionPreprocessor.compute_health_score(parsed)\n",
    "    \n",
    "    print(f\"\\n{profile['name']}:\")\n",
    "    print(f\"  Calories: {parsed['calories']}\")\n",
    "    print(f\"  Protéines: {parsed['protein']}g\")\n",
    "    print(f\"  Sucre: {parsed['sugar']}g\")\n",
    "    print(f\"  Sodium: {parsed['sodium']}mg\")\n",
    "    print(f\"  🏥 Health Score: {health_score}\")\n",
    "\n",
    "print(f\"\\n✅ Tests terminés!\")\n",
    "\n"
   ]
  },
  {
   "cell_type": "code",
   "execution_count": 83,
   "id": "1e341f4c",
   "metadata": {},
   "outputs": [
    {
     "name": "stdout",
     "output_type": "stream",
     "text": [
      "<class 'pandas.core.frame.DataFrame'>\n",
      "RangeIndex: 231637 entries, 0 to 231636\n",
      "Data columns (total 13 columns):\n",
      " #   Column                  Non-Null Count   Dtype \n",
      "---  ------                  --------------   ----- \n",
      " 0   name                    231636 non-null  object\n",
      " 1   id                      231637 non-null  int64 \n",
      " 2   minutes                 231637 non-null  int64 \n",
      " 3   contributor_id          231637 non-null  int64 \n",
      " 4   submitted               231637 non-null  object\n",
      " 5   tags                    231637 non-null  object\n",
      " 6   nutrition               231637 non-null  object\n",
      " 7   n_steps                 231637 non-null  int64 \n",
      " 8   steps                   231637 non-null  object\n",
      " 9   description             226658 non-null  object\n",
      " 10  ingredients             231637 non-null  object\n",
      " 11  n_ingredients           231637 non-null  int64 \n",
      " 12  normalized_ingredients  231637 non-null  object\n",
      "dtypes: int64(5), object(8)\n",
      "memory usage: 23.0+ MB\n"
     ]
    }
   ],
   "source": [
    "recipes_df.info()"
   ]
  },
  {
   "cell_type": "code",
   "execution_count": null,
   "id": "58288c33",
   "metadata": {},
   "outputs": [
    {
     "name": "stdout",
     "output_type": "stream",
     "text": [
      "{'proteins': ['chicken'], 'oils': ['olive oil'], 'spices': ['salt', 'basil'], 'vegetables': ['tomato'], 'sweeteners': ['sugar'], 'grains': ['flour']}\n"
     ]
    }
   ],
   "source": [
    "categorized_test = preproc.categorize([\"chicken\", \"olive oil\", \"salt\", \"tomato\", \"basil\", \"sugar\", \"flour\"])\n",
    "print(categorized_test)"
   ]
  },
  {
   "cell_type": "code",
   "execution_count": null,
   "id": "42f448fc",
   "metadata": {},
   "outputs": [],
   "source": [
    "categorized = recipes_df[\"normalized_ingredients\"].apply(preproc.categorize)"
   ]
  },
  {
   "cell_type": "code",
   "execution_count": 90,
   "id": "fe290c9c",
   "metadata": {},
   "outputs": [
    {
     "data": {
      "text/plain": [
       "['olive oil',\n",
       " 'butter',\n",
       " 'honey',\n",
       " 'winter squash',\n",
       " 'salt',\n",
       " 'mixed spice',\n",
       " 'mexican seasoning']"
      ]
     },
     "execution_count": 90,
     "metadata": {},
     "output_type": "execute_result"
    }
   ],
   "source": [
    "recipes_df[\"normalized_ingredients\"][0]"
   ]
  },
  {
   "cell_type": "code",
   "execution_count": 89,
   "id": "81145a34",
   "metadata": {},
   "outputs": [
    {
     "data": {
      "text/plain": [
       "{'oils': ['olive oil', 'butter'],\n",
       " 'sweeteners': ['honey'],\n",
       " 'other': ['winter squash', 'mixed spice', 'mexican seasoning'],\n",
       " 'spices': ['salt']}"
      ]
     },
     "execution_count": 89,
     "metadata": {},
     "output_type": "execute_result"
    }
   ],
   "source": [
    "categorized[0]"
   ]
  }
 ],
 "metadata": {
  "kernelspec": {
   "display_name": "Python 3 (ipykernel)",
   "language": "python",
   "name": "python3"
  },
  "language_info": {
   "codemirror_mode": {
    "name": "ipython",
    "version": 3
   },
   "file_extension": ".py",
   "mimetype": "text/x-python",
   "name": "python",
   "nbconvert_exporter": "python",
   "pygments_lexer": "ipython3",
   "version": "3.11.13"
  }
 },
 "nbformat": 4,
 "nbformat_minor": 5
}
